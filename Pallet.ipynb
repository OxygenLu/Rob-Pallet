{
 "cells": [
  {
   "cell_type": "markdown",
   "metadata": {},
   "source": [
    "# 码垛\n",
    "每个垛：（weight:20 len:30 hight:4）\n"
   ]
  },
  {
   "cell_type": "code",
   "execution_count": 2,
   "metadata": {},
   "outputs": [],
   "source": [
    "def Palletzerv1(len, weight, hight, heng_nums, shu_nums, \n",
    "            heng_weight, shu_weight, ceng_nums=1, rotate=False):\n",
    "    \n",
    "    duo_len = (len*heng_nums)+(heng_weight*(heng_nums-1))#30*2 \n",
    "    duo_len_= (weight*shu_nums)+(shu_weight*(shu_nums-1))\n",
    "\n",
    "    # center point\n",
    "    # rotate = True\n",
    "    \n",
    "    # print(Coordinate)\n",
    "    if duo_len == duo_len_:\n",
    "        # x= weight//2 ,y=len//2, z = hight\n",
    "        if rotate:\n",
    "            x=len//2\n",
    "            y=weight//2+(len+shu_weight)\n",
    "            z=hight*ceng_nums                \n",
    "            Coordinate = [x,y,z]\n",
    "            print(Coordinate)\n",
    "            for _ in range(1, heng_nums):\n",
    "                Coordinate[0] += (heng_weight + len)\n",
    "                print(Coordinate)\n",
    "            print(\"--------------\")\n",
    "        else:\n",
    "            x=weight//2\n",
    "            y=len//2\n",
    "            z=hight*ceng_nums\n",
    "            Coordinate_ = [x,y,z]\n",
    "            print(Coordinate_)\n",
    "            for _ in range(1, shu_nums):\n",
    "                Coordinate_[0] += (shu_weight + weight)\n",
    "                print(Coordinate_)\n",
    "            print(\"==============\")\n",
    "               \n",
    "    else:\n",
    "        print(\"Warning!\")\n",
    "\n",
    "    return \n",
    "        \n"
   ]
  },
  {
   "cell_type": "code",
   "execution_count": 3,
   "metadata": {},
   "outputs": [],
   "source": [
    "def Palletzerv2(len, weight, hight, heng_nums, shu_nums,\n",
    "            heng_weight, shu_weight, ceng_nums=1, rotate=False):\n",
    "    \n",
    "    # out = Maduov2(30,20,8,3,2,10,5,rotate=True)\n",
    "    duo_len = (len*heng_nums)+(heng_weight*(heng_nums-1))#30*2 \n",
    "    duo_len_= (weight*shu_nums)+(shu_weight*(shu_nums-1))\n",
    "\n",
    "    # center point\n",
    "    \n",
    "\n",
    "    # rotate = True\n",
    "    \n",
    "    # print(Coordinate)\n",
    "    if duo_len == duo_len_:\n",
    "        # x= weight//2 ,y=len//2, z = hight\n",
    "        if rotate:\n",
    "            x=weight//2\n",
    "            y=len//2+(weight+shu_weight)\n",
    "            z=hight*ceng_nums               \n",
    "            Coordinate = [x,y,z]\n",
    "            print(Coordinate)\n",
    "            for _ in range(1, shu_nums):\n",
    "                Coordinate[0] += (shu_weight + weight)\n",
    "                print(Coordinate)\n",
    "            print(\"--------------\")  \n",
    "        else:\n",
    "            y=weight//2\n",
    "            x=len//2\n",
    "            z=hight*ceng_nums\n",
    "            Coordinate_ = [x,y,z]\n",
    "            print(Coordinate_)\n",
    "            for _ in range(1, heng_nums):\n",
    "                Coordinate_[0] += (heng_weight + len)\n",
    "                print(Coordinate_)\n",
    "            print(\"==============\")       \n",
    "    else:\n",
    "        print(\"Warning!\")\n",
    "\n",
    "    return"
   ]
  },
  {
   "cell_type": "code",
   "execution_count": 5,
   "metadata": {},
   "outputs": [
    {
     "name": "stdout",
     "output_type": "stream",
     "text": [
      "第一层坐标\n",
      "[10, 15, 4]\n",
      "[35, 15, 4]\n",
      "[60, 15, 4]\n",
      "==============\n",
      "[15, 45, 4]\n",
      "[55, 45, 4]\n",
      "--------------\n",
      "第二层坐标\n",
      "[10, 40, 8]\n",
      "[35, 40, 8]\n",
      "[60, 40, 8]\n",
      "--------------\n",
      "[15, 10, 8]\n",
      "[55, 10, 8]\n",
      "==============\n"
     ]
    }
   ],
   "source": [
    "print(\"第一层坐标\")\n",
    "out = Palletzerv1(30,20,4,2,3,10,5)\n",
    "out = Palletzerv1(30,20,4,2,3,10,5,rotate=True)\n",
    "\n",
    "print(\"第二层坐标\")\n",
    "out = Palletzerv2(30,20,4,2,3,10,5,ceng_nums=2,rotate=True)\n",
    "out = Palletzerv2(30,20,4,2,3,10,5,ceng_nums=2)\n"
   ]
  },
  {
   "cell_type": "code",
   "execution_count": 6,
   "metadata": {},
   "outputs": [
    {
     "name": "stdout",
     "output_type": "stream",
     "text": [
      "第三层坐标\n",
      "[15, 45, 12]\n",
      "[55, 45, 12]\n",
      "--------------\n",
      "[10, 15, 12]\n",
      "[35, 15, 12]\n",
      "[60, 15, 12]\n",
      "==============\n",
      "第四层坐标\n",
      "[10, 40, 16]\n",
      "[35, 40, 16]\n",
      "[60, 40, 16]\n",
      "--------------\n",
      "[15, 10, 16]\n",
      "[55, 10, 16]\n",
      "==============\n"
     ]
    }
   ],
   "source": [
    "print(\"第三层坐标\")\n",
    "out = Palletzerv1(30,20,4,2,3,10,5,ceng_nums=3,rotate=True)\n",
    "out = Palletzerv1(30,20,4,2,3,10,5,ceng_nums=3)\n",
    "print(\"第四层坐标\")\n",
    "out = Palletzerv2(30,20,4,2,3,10,5,ceng_nums=4,rotate=True)\n",
    "out = Palletzerv2(30,20,4,2,3,10,5,ceng_nums=4)"
   ]
  }
 ],
 "metadata": {
  "kernelspec": {
   "display_name": "datl",
   "language": "python",
   "name": "python3"
  },
  "language_info": {
   "codemirror_mode": {
    "name": "ipython",
    "version": 3
   },
   "file_extension": ".py",
   "mimetype": "text/x-python",
   "name": "python",
   "nbconvert_exporter": "python",
   "pygments_lexer": "ipython3",
   "version": "3.9.16"
  }
 },
 "nbformat": 4,
 "nbformat_minor": 2
}
